{
 "cells": [
  {
   "cell_type": "code",
   "execution_count": 7,
   "metadata": {},
   "outputs": [],
   "source": [
    "import pandas \n",
    "\n",
    "arquivo = 'C:/Users/max.silva/Downloads/data.csv'\n",
    "\n",
    "tabela = pandas.read_csv(arquivo)\n",
    "\n",
    "tabela = tabela.dropna(axis=0)\n",
    "\n",
    "\n",
    "y = tabela.price\n",
    "\n",
    "features = ['bedrooms', 'bathrooms', 'sqft_living', 'sqft_lot',\n",
    "       'floors', 'waterfront', 'view', 'condition', 'sqft_above',\n",
    "       'sqft_basement', 'yr_built', 'yr_renovated']\n",
    "\n",
    "#print (features)\n",
    "\n",
    "X = tabela[features]\n"
   ]
  },
  {
   "cell_type": "code",
   "execution_count": 8,
   "metadata": {},
   "outputs": [],
   "source": [
    "\n",
    "from sklearn.tree import DecisionTreeRegressor\n",
    "from sklearn.metrics import mean_absolute_error\n",
    "from sklearn.model_selection import train_test_split\n",
    "\n",
    "train_X, val_X, train_y, val_y = train_test_split(X,y,random_state=0)\n",
    "\n"
   ]
  },
  {
   "cell_type": "code",
   "execution_count": 9,
   "metadata": {},
   "outputs": [],
   "source": [
    "def get_mae(max_leaf_nodes, train_X, val_X, train_y, val_y):\n",
    "    model = DecisionTreeRegressor(max_leaf_nodes=max_leaf_nodes, random_state=0)\n",
    "    model.fit(train_X, train_y)\n",
    "    preds_val = model.predict(val_X)\n",
    "    mae = mean_absolute_error(val_y, preds_val)\n",
    "    return(mae)"
   ]
  },
  {
   "cell_type": "code",
   "execution_count": 10,
   "metadata": {},
   "outputs": [],
   "source": [
    "candidate_max_leaf_nodes = [5, 25, 50, 100, 250, 500]\n",
    "\n",
    "scores = {leaf_size: get_mae(leaf_size, train_X, val_X, train_y, val_y) for leaf_size in candidate_max_leaf_nodes}\n",
    "best_tree_size = min(scores, key=scores.get)\n",
    "\n",
    "best_tree_size = best_tree_size"
   ]
  },
  {
   "cell_type": "code",
   "execution_count": 11,
   "metadata": {},
   "outputs": [
    {
     "name": "stdout",
     "output_type": "stream",
     "text": [
      "Modelo final:  DecisionTreeRegressor(max_leaf_nodes=50, random_state=1)\n",
      "\n",
      "\n",
      "Prediction:  [421893.92753603 623923.29015013 311859.22903047 ... 311859.22903047\n",
      " 637410.27912088 650352.58724637]\n",
      "\n",
      "\n",
      "Erro Absoluto do modelo:  154116.8423678169\n"
     ]
    }
   ],
   "source": [
    "final_model = DecisionTreeRegressor(max_leaf_nodes=best_tree_size, random_state=1)\n",
    "\n",
    "final_model.fit(X, y)\n",
    "\n",
    "\n",
    "val_predictions = final_model.predict(val_X)\n",
    "absolute_error = mean_absolute_error(val_y,val_predictions)\n",
    "\n",
    "print('Modelo final: ',final_model)\n",
    "print('\\n\\nPrediction: ', val_predictions)\n",
    "print('\\n\\nErro Absoluto do modelo: ', absolute_error)"
   ]
  }
 ],
 "metadata": {
  "interpreter": {
   "hash": "decfd7391e818996ee5b9ab92627d9a6ea9dd79e5a3c7c43dd37d885693c9ee7"
  },
  "kernelspec": {
   "display_name": "Python 3.9.7 ('base')",
   "language": "python",
   "name": "python3"
  },
  "language_info": {
   "codemirror_mode": {
    "name": "ipython",
    "version": 3
   },
   "file_extension": ".py",
   "mimetype": "text/x-python",
   "name": "python",
   "nbconvert_exporter": "python",
   "pygments_lexer": "ipython3",
   "version": "3.9.12"
  },
  "orig_nbformat": 4
 },
 "nbformat": 4,
 "nbformat_minor": 2
}
